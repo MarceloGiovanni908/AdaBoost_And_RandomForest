{
 "cells": [
  {
   "cell_type": "code",
   "execution_count": 27,
   "id": "901e0232",
   "metadata": {},
   "outputs": [],
   "source": [
    "#masukkan library\n",
    "from sklearn.ensemble import AdaBoostClassifier\n",
    "from sklearn import datasets\n",
    "from sklearn.model_selection import train_test_split\n",
    "from sklearn import metrics\n",
    "import pandas as pd\n",
    "from pandas import read_csv"
   ]
  },
  {
   "cell_type": "code",
   "execution_count": 28,
   "id": "7baba50a",
   "metadata": {},
   "outputs": [],
   "source": [
    "#load data\n",
    "path = r\"pima-indians-diabetes.csv\"\n",
    "headernames = ['preg', 'plas', 'pres', 'skin', 'test', 'mass', 'pedi', 'age', 'class']\n",
    "data = read_csv(path, names=headernames)\n",
    "array = data.values\n",
    "X = array[:,0:8]\n",
    "Y = array[:,8]"
   ]
  },
  {
   "cell_type": "code",
   "execution_count": 29,
   "id": "21307cee",
   "metadata": {},
   "outputs": [],
   "source": [
    "X_train,X_test,Y_train,Y_test = train_test_split(X,Y,test_size=0.3)"
   ]
  },
  {
   "cell_type": "code",
   "execution_count": 7,
   "id": "a102fb75",
   "metadata": {},
   "outputs": [],
   "source": [
    "#percobaan 1 n_est = 25\n",
    "abc = AdaBoostClassifier(n_estimators=25, learning_rate=0.1)\n",
    "\n",
    "#Train\n",
    "model = abc.fit(X_train, Y_train)"
   ]
  },
  {
   "cell_type": "code",
   "execution_count": 8,
   "id": "92f14e2f",
   "metadata": {},
   "outputs": [
    {
     "name": "stdout",
     "output_type": "stream",
     "text": [
      "Accuracy :  0.7575757575757576\n"
     ]
    }
   ],
   "source": [
    "#predict\n",
    "Y_pred = model.predict(X_test)\n",
    "print(\"Accuracy : \", metrics.accuracy_score(Y_test, Y_pred))\n",
    "\n",
    "#setelah dilakukan penggantian pada n_estimators sebesar 25 saya mendapatkan hasil akurasi yang lebih rendah dibandingkan \n",
    "#dengan n_estimators = 100, hal ini mungkin terjadi karena saya melakukan pengurangan model yang dilatih atau n_estimators \n",
    "#untuk melatih dataset yang telah saya buat diawal."
   ]
  },
  {
   "cell_type": "code",
   "execution_count": 11,
   "id": "13a65145",
   "metadata": {},
   "outputs": [],
   "source": [
    "#percobaan 2 n_est = 120\n",
    "abc = AdaBoostClassifier(n_estimators=120, learning_rate=1)\n",
    "\n",
    "#Train\n",
    "model = abc.fit(X_train, Y_train)"
   ]
  },
  {
   "cell_type": "code",
   "execution_count": 12,
   "id": "82f7e515",
   "metadata": {},
   "outputs": [
    {
     "name": "stdout",
     "output_type": "stream",
     "text": [
      "Accuracy :  0.70995670995671\n"
     ]
    }
   ],
   "source": [
    "#predict\n",
    "Y_pred = model.predict(X_test)\n",
    "print(\"Accuracy : \", metrics.accuracy_score(Y_test, Y_pred))\n",
    "#setelah saya mengubah nilai n_estimators menjadi 120 saya mendapatkan hasil yang semakin rendah dibandingkan dengan \n",
    "#hasil yang awalnya n_estimators = 100."
   ]
  },
  {
   "cell_type": "code",
   "execution_count": 16,
   "id": "84db42e2",
   "metadata": {},
   "outputs": [],
   "source": [
    "#percobaan 3 n_est = 500\n",
    "abc = AdaBoostClassifier(n_estimators=500, learning_rate=1)\n",
    "\n",
    "#Train\n",
    "model = abc.fit(X_train, Y_train)"
   ]
  },
  {
   "cell_type": "code",
   "execution_count": 17,
   "id": "30dfc21a",
   "metadata": {},
   "outputs": [
    {
     "name": "stdout",
     "output_type": "stream",
     "text": [
      "Accuracy :  0.7229437229437229\n"
     ]
    }
   ],
   "source": [
    "#predict\n",
    "Y_pred = model.predict(X_test)\n",
    "print(\"Accuracy : \", metrics.accuracy_score(Y_test, Y_pred))\n",
    "#setelah saya mengubah nilai n_estimators menjadi 500 saya mendapatkan hasil yang semakin rendah dibandingkan dengan \n",
    "#hasil yang awalnya n_estimators = 100."
   ]
  },
  {
   "cell_type": "code",
   "execution_count": 9,
   "id": "a29ab0b4",
   "metadata": {},
   "outputs": [],
   "source": [
    "#percobaan 3 n_est = 1000\n",
    "abc = AdaBoostClassifier(n_estimators=1000, learning_rate=1)\n",
    "\n",
    "#Train\n",
    "model = abc.fit(X_train, Y_train)"
   ]
  },
  {
   "cell_type": "code",
   "execution_count": 11,
   "id": "8a0c3b54",
   "metadata": {},
   "outputs": [
    {
     "name": "stdout",
     "output_type": "stream",
     "text": [
      "Accuracy :  0.7056277056277056\n"
     ]
    }
   ],
   "source": [
    "Y_pred = model.predict(X_test)\n",
    "print(\"Accuracy : \", metrics.accuracy_score(Y_test, Y_pred))\n",
    "#setelah saya mengubah nilai n_estimators menjadi 500 saya mendapatkan hasil yang semakin rendah dibandingkan dengan \n",
    "#hasil yang awalnya n_estimators = 100.\n",
    "\n",
    "#setelah saya melakukan 4 eksperimen dengan mengganti nilai n_estimators maka saya bisa menyimpulkan bahwa n_estimators\n",
    "#sebesar 25 mendapatkan nilai terbaik"
   ]
  },
  {
   "cell_type": "code",
   "execution_count": 12,
   "id": "b64aeb51",
   "metadata": {},
   "outputs": [],
   "source": [
    "#percobaan 1 learning_rate = 0.1\n",
    "abc = AdaBoostClassifier(n_estimators=25, learning_rate=0.1)\n",
    "\n",
    "#Train\n",
    "model = abc.fit(X_train, Y_train)"
   ]
  },
  {
   "cell_type": "code",
   "execution_count": 13,
   "id": "67ef83ef",
   "metadata": {},
   "outputs": [
    {
     "name": "stdout",
     "output_type": "stream",
     "text": [
      "Accuracy :  0.7662337662337663\n"
     ]
    }
   ],
   "source": [
    "Y_pred = model.predict(X_test)\n",
    "print(\"Accuracy : \", metrics.accuracy_score(Y_test, Y_pred))"
   ]
  },
  {
   "cell_type": "code",
   "execution_count": 14,
   "id": "e8690bf9",
   "metadata": {},
   "outputs": [],
   "source": [
    "#setelah saya melatih nya dengan learning rate sebesar 0.1 saya mendapatkan hasil yang lebih besar dari awalnya sebesar 76%"
   ]
  },
  {
   "cell_type": "code",
   "execution_count": 18,
   "id": "3204f0be",
   "metadata": {},
   "outputs": [],
   "source": [
    "#percobaan 2 learning_rate = 2\n",
    "abc = AdaBoostClassifier(n_estimators=25, learning_rate=2)\n",
    "\n",
    "#Train\n",
    "model = abc.fit(X_train, Y_train)"
   ]
  },
  {
   "cell_type": "code",
   "execution_count": 19,
   "id": "f9a719a1",
   "metadata": {},
   "outputs": [
    {
     "name": "stdout",
     "output_type": "stream",
     "text": [
      "Accuracy :  0.7012987012987013\n"
     ]
    }
   ],
   "source": [
    "Y_pred = model.predict(X_test)\n",
    "print(\"Accuracy : \", metrics.accuracy_score(Y_test, Y_pred))"
   ]
  },
  {
   "cell_type": "code",
   "execution_count": 20,
   "id": "c1f12699",
   "metadata": {},
   "outputs": [],
   "source": [
    "#setelah saya melatih nya dengan learning rate sebesar 2 saya mendapatkan hasil yang lebih besar dari awalnya sebesar 70%"
   ]
  },
  {
   "cell_type": "code",
   "execution_count": 24,
   "id": "864a4d81",
   "metadata": {},
   "outputs": [],
   "source": [
    "#percobaan 3 learning_rate = 0.5\n",
    "abc = AdaBoostClassifier(n_estimators=25, learning_rate=0.5)\n",
    "\n",
    "#Train\n",
    "model = abc.fit(X_train, Y_train)"
   ]
  },
  {
   "cell_type": "code",
   "execution_count": 25,
   "id": "cae1ce39",
   "metadata": {},
   "outputs": [
    {
     "name": "stdout",
     "output_type": "stream",
     "text": [
      "Accuracy :  0.7056277056277056\n"
     ]
    }
   ],
   "source": [
    "Y_pred = model.predict(X_test)\n",
    "print(\"Accuracy : \", metrics.accuracy_score(Y_test, Y_pred))"
   ]
  },
  {
   "cell_type": "code",
   "execution_count": 26,
   "id": "bdb45a83",
   "metadata": {},
   "outputs": [],
   "source": [
    "#setelah saya melatih nya dengan learning rate sebesar 0.5 saya mendapatkan hasil yang lebih besar dari awalnya sebesar 70%"
   ]
  },
  {
   "cell_type": "code",
   "execution_count": 30,
   "id": "03ede069",
   "metadata": {},
   "outputs": [],
   "source": [
    "#percobaan 4 learning_rate = 0.01\n",
    "abc = AdaBoostClassifier(n_estimators=25, learning_rate=0.01)\n",
    "\n",
    "#Train\n",
    "model = abc.fit(X_train, Y_train)"
   ]
  },
  {
   "cell_type": "code",
   "execution_count": 31,
   "id": "f2ec3215",
   "metadata": {},
   "outputs": [
    {
     "name": "stdout",
     "output_type": "stream",
     "text": [
      "Accuracy :  0.6926406926406926\n"
     ]
    }
   ],
   "source": [
    "Y_pred = model.predict(X_test)\n",
    "print(\"Accuracy : \", metrics.accuracy_score(Y_test, Y_pred))"
   ]
  },
  {
   "cell_type": "code",
   "execution_count": 32,
   "id": "64f4909d",
   "metadata": {},
   "outputs": [],
   "source": [
    "#setelah saya melatih nya dengan learning rate sebesar 0.5 saya mendapatkan hasil yang lebih besar dari awalnya sebesar 69%"
   ]
  },
  {
   "cell_type": "code",
   "execution_count": null,
   "id": "43e1f1b9",
   "metadata": {},
   "outputs": [],
   "source": [
    "#setelah saya melakukan 4 kali eksperimen dengan 4 learning rate yang berbeda maka saya bisa menyimpulkan bahwa \n",
    "#learning rate sebesar 0.1 adalah learning rate terbaik yang digunakan"
   ]
  }
 ],
 "metadata": {
  "kernelspec": {
   "display_name": "Python 3 (ipykernel)",
   "language": "python",
   "name": "python3"
  },
  "language_info": {
   "codemirror_mode": {
    "name": "ipython",
    "version": 3
   },
   "file_extension": ".py",
   "mimetype": "text/x-python",
   "name": "python",
   "nbconvert_exporter": "python",
   "pygments_lexer": "ipython3",
   "version": "3.9.13"
  }
 },
 "nbformat": 4,
 "nbformat_minor": 5
}
