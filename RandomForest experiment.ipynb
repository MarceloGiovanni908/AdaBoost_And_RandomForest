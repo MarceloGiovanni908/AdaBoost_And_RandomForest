{
 "cells": [
  {
   "cell_type": "code",
   "execution_count": 22,
   "id": "f7a5c668",
   "metadata": {},
   "outputs": [],
   "source": [
    "#independent framework\n",
    "#import library\n",
    "from sklearn.ensemble import RandomForestClassifier\n",
    "from pandas import read_csv\n",
    "from sklearn.model_selection import train_test_split\n",
    "from sklearn import metrics"
   ]
  },
  {
   "cell_type": "code",
   "execution_count": 23,
   "id": "5fbd9c47",
   "metadata": {},
   "outputs": [],
   "source": [
    "#load data\n",
    "path = r\"pima-indians-diabetes.csv\"\n",
    "headernames = ['preg', 'plas', 'pres', 'skin', 'test', 'mass', 'pedi', 'age', 'class']\n",
    "dataRF = read_csv(path, names=headernames)\n",
    "array = dataRF.values\n",
    "X = array[:,0:8]\n",
    "Y = array[:,8]"
   ]
  },
  {
   "cell_type": "code",
   "execution_count": 24,
   "id": "9473c883",
   "metadata": {},
   "outputs": [],
   "source": [
    "X_train,X_test,Y_train,Y_test = train_test_split(X,Y,test_size=0.3)"
   ]
  },
  {
   "cell_type": "code",
   "execution_count": 25,
   "id": "fec94be3",
   "metadata": {},
   "outputs": [],
   "source": [
    "#percobaan 1 max_depth = 6\n",
    "clf1 = RandomForestClassifier(max_depth=6, random_state=2)\n",
    "model1 = clf1.fit(X_train, Y_train)\n",
    "\n",
    "#percobaan 2 max_depth = 8\n",
    "clf2 = RandomForestClassifier(max_depth=8, random_state=2)\n",
    "model2 = clf2.fit(X_train, Y_train)\n",
    "\n",
    "#percobaan 3 max_depth = 10\n",
    "clf3 = RandomForestClassifier(max_depth=10, random_state=2)\n",
    "model3 = clf3.fit(X_train, Y_train)\n",
    "\n",
    "#percobaan 4 max_depth = 50\n",
    "clf4 = RandomForestClassifier(max_depth=50, random_state=2)\n",
    "model4 = clf4.fit(X_train, Y_train)"
   ]
  },
  {
   "cell_type": "code",
   "execution_count": 26,
   "id": "5bd2b861",
   "metadata": {},
   "outputs": [
    {
     "name": "stdout",
     "output_type": "stream",
     "text": [
      "Accuracy 1 :  0.7575757575757576\n",
      "Accuracy 2 :  0.7575757575757576\n",
      "Accuracy 3 :  0.7792207792207793\n",
      "Accuracy 4 :  0.7575757575757576\n"
     ]
    }
   ],
   "source": [
    "Y_pred = model1.predict(X_test)\n",
    "print(\"Accuracy 1 : \", metrics.accuracy_score(Y_test, Y_pred))\n",
    "\n",
    "Y_pred = model2.predict(X_test)\n",
    "print(\"Accuracy 2 : \", metrics.accuracy_score(Y_test, Y_pred))\n",
    "\n",
    "Y_pred = model3.predict(X_test)\n",
    "print(\"Accuracy 3 : \", metrics.accuracy_score(Y_test, Y_pred))\n",
    "\n",
    "Y_pred = model4.predict(X_test)\n",
    "print(\"Accuracy 4 : \", metrics.accuracy_score(Y_test, Y_pred))"
   ]
  },
  {
   "cell_type": "code",
   "execution_count": 16,
   "id": "a9aff7a4",
   "metadata": {},
   "outputs": [],
   "source": [
    "#setelah saya melakukan 4 eksperimen saya menyimpulkan bahwa max_depth 10 adalah mendapatkan akurasi terbaik."
   ]
  },
  {
   "cell_type": "code",
   "execution_count": null,
   "id": "2102fc58",
   "metadata": {},
   "outputs": [],
   "source": [
    "#percobaan 1 max_depth = 8\n",
    "clf = RandomForestClassifier(max_depth=8, random_state=2)\n",
    "model = clf.fit(X_train, Y_train)"
   ]
  }
 ],
 "metadata": {
  "kernelspec": {
   "display_name": "Python 3 (ipykernel)",
   "language": "python",
   "name": "python3"
  },
  "language_info": {
   "codemirror_mode": {
    "name": "ipython",
    "version": 3
   },
   "file_extension": ".py",
   "mimetype": "text/x-python",
   "name": "python",
   "nbconvert_exporter": "python",
   "pygments_lexer": "ipython3",
   "version": "3.9.13"
  }
 },
 "nbformat": 4,
 "nbformat_minor": 5
}
